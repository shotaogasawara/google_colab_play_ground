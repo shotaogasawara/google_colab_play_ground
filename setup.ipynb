{
  "nbformat": 4,
  "nbformat_minor": 0,
  "metadata": {
    "colab": {
      "name": "setup.ipynb",
      "provenance": [],
      "authorship_tag": "ABX9TyNr2ViEevddZ0UPV+KvrdgG",
      "include_colab_link": true
    },
    "kernelspec": {
      "name": "python3",
      "display_name": "Python 3"
    }
  },
  "cells": [
    {
      "cell_type": "markdown",
      "metadata": {
        "id": "view-in-github",
        "colab_type": "text"
      },
      "source": [
        "<a href=\"https://colab.research.google.com/github/shotaogasawara/google_colab_play_ground/blob/master/setup.ipynb\" target=\"_parent\"><img src=\"https://colab.research.google.com/assets/colab-badge.svg\" alt=\"Open In Colab\"/></a>"
      ]
    },
    {
      "cell_type": "code",
      "metadata": {
        "id": "rUV9Kp-HE64X",
        "colab_type": "code",
        "outputId": "e92ff40a-9817-49e3-de23-8f64bcbe8cd1",
        "colab": {
          "base_uri": "https://localhost:8080/",
          "height": 102
        }
      },
      "source": [
        "!git clone https://github.com/1adrianb/face-alignment.git"
      ],
      "execution_count": 0,
      "outputs": [
        {
          "output_type": "stream",
          "text": [
            "Cloning into 'face-alignment'...\n",
            "remote: Enumerating objects: 563, done.\u001b[K\n",
            "Receiving objects:   0% (1/563)   \rReceiving objects:   1% (6/563)   \rReceiving objects:   2% (12/563)   \rReceiving objects:   3% (17/563)   \rReceiving objects:   4% (23/563)   \rReceiving objects:   5% (29/563)   \rReceiving objects:   6% (34/563)   \rReceiving objects:   7% (40/563)   \rReceiving objects:   8% (46/563)   \rReceiving objects:   9% (51/563)   \rReceiving objects:  10% (57/563)   \rReceiving objects:  11% (62/563)   \rReceiving objects:  12% (68/563)   \rReceiving objects:  13% (74/563)   \rReceiving objects:  14% (79/563)   \rReceiving objects:  15% (85/563)   \rReceiving objects:  16% (91/563)   \rReceiving objects:  17% (96/563)   \rReceiving objects:  18% (102/563)   \rReceiving objects:  19% (107/563)   \rReceiving objects:  20% (113/563)   \rReceiving objects:  21% (119/563)   \rReceiving objects:  22% (124/563)   \rReceiving objects:  23% (130/563)   \rReceiving objects:  24% (136/563)   \rReceiving objects:  25% (141/563)   \rReceiving objects:  26% (147/563)   \rReceiving objects:  27% (153/563)   \rReceiving objects:  28% (158/563)   \rReceiving objects:  29% (164/563)   \rReceiving objects:  30% (169/563)   \rReceiving objects:  31% (175/563)   \rReceiving objects:  32% (181/563)   \rReceiving objects:  33% (186/563)   \rReceiving objects:  34% (192/563)   \rReceiving objects:  35% (198/563)   \rReceiving objects:  36% (203/563)   \rReceiving objects:  37% (209/563)   \rReceiving objects:  38% (214/563)   \rReceiving objects:  39% (220/563)   \rReceiving objects:  40% (226/563)   \rReceiving objects:  41% (231/563)   \rremote: Total 563 (delta 0), reused 0 (delta 0), pack-reused 563\u001b[K\n",
            "Receiving objects:  42% (237/563)   \rReceiving objects:  43% (243/563)   \rReceiving objects:  44% (248/563)   \rReceiving objects:  45% (254/563)   \rReceiving objects:  46% (259/563)   \rReceiving objects:  47% (265/563)   \rReceiving objects:  48% (271/563)   \rReceiving objects:  49% (276/563)   \rReceiving objects:  50% (282/563)   \rReceiving objects:  51% (288/563)   \rReceiving objects:  52% (293/563)   \rReceiving objects:  53% (299/563)   \rReceiving objects:  54% (305/563)   \rReceiving objects:  55% (310/563)   \rReceiving objects:  56% (316/563)   \rReceiving objects:  57% (321/563)   \rReceiving objects:  58% (327/563)   \rReceiving objects:  59% (333/563)   \rReceiving objects:  60% (338/563)   \rReceiving objects:  61% (344/563)   \rReceiving objects:  62% (350/563)   \rReceiving objects:  63% (355/563)   \rReceiving objects:  64% (361/563)   \rReceiving objects:  65% (366/563)   \rReceiving objects:  66% (372/563)   \rReceiving objects:  67% (378/563)   \rReceiving objects:  68% (383/563)   \rReceiving objects:  69% (389/563)   \rReceiving objects:  70% (395/563)   \rReceiving objects:  71% (400/563)   \rReceiving objects:  72% (406/563)   \rReceiving objects:  73% (411/563)   \rReceiving objects:  74% (417/563)   \rReceiving objects:  75% (423/563)   \rReceiving objects:  76% (428/563)   \rReceiving objects:  77% (434/563)   \rReceiving objects:  78% (440/563)   \rReceiving objects:  79% (445/563)   \rReceiving objects:  80% (451/563)   \rReceiving objects:  81% (457/563)   \rReceiving objects:  82% (462/563)   \rReceiving objects:  83% (468/563)   \rReceiving objects:  84% (473/563)   \rReceiving objects:  85% (479/563)   \rReceiving objects:  86% (485/563)   \rReceiving objects:  87% (490/563)   \rReceiving objects:  88% (496/563)   \rReceiving objects:  89% (502/563)   \rReceiving objects:  90% (507/563)   \rReceiving objects:  91% (513/563)   \rReceiving objects:  92% (518/563)   \rReceiving objects:  93% (524/563)   \rReceiving objects:  94% (530/563)   \rReceiving objects:  95% (535/563)   \rReceiving objects:  96% (541/563)   \rReceiving objects:  97% (547/563)   \rReceiving objects:  98% (552/563)   \rReceiving objects:  99% (558/563)   \rReceiving objects: 100% (563/563)   \rReceiving objects: 100% (563/563), 3.51 MiB | 27.68 MiB/s, done.\n",
            "Resolving deltas:   0% (0/340)   \rResolving deltas:   4% (14/340)   \rResolving deltas:   8% (28/340)   \rResolving deltas:   9% (33/340)   \rResolving deltas:  12% (41/340)   \rResolving deltas:  13% (46/340)   \rResolving deltas:  14% (49/340)   \rResolving deltas:  15% (52/340)   \rResolving deltas:  16% (56/340)   \rResolving deltas:  17% (59/340)   \rResolving deltas:  19% (65/340)   \rResolving deltas:  20% (68/340)   \rResolving deltas:  22% (77/340)   \rResolving deltas:  24% (82/340)   \rResolving deltas:  28% (97/340)   \rResolving deltas:  30% (102/340)   \rResolving deltas:  32% (111/340)   \rResolving deltas:  33% (114/340)   \rResolving deltas:  42% (146/340)   \rResolving deltas:  56% (193/340)   \rResolving deltas:  57% (194/340)   \rResolving deltas:  67% (228/340)   \rResolving deltas:  68% (232/340)   \rResolving deltas:  69% (235/340)   \rResolving deltas:  70% (240/340)   \rResolving deltas:  71% (242/340)   \rResolving deltas:  72% (246/340)   \rResolving deltas:  75% (256/340)   \rResolving deltas:  77% (262/340)   \rResolving deltas:  85% (292/340)   \rResolving deltas:  87% (297/340)   \rResolving deltas:  88% (301/340)   \rResolving deltas:  89% (303/340)   \rResolving deltas: 100% (340/340)   \rResolving deltas: 100% (340/340), done.\n"
          ],
          "name": "stdout"
        }
      ]
    },
    {
      "cell_type": "code",
      "metadata": {
        "id": "poXsdfpCHBNh",
        "colab_type": "code",
        "outputId": "62df9c85-d0f7-408b-bcd5-9f793195c17f",
        "colab": {
          "base_uri": "https://localhost:8080/",
          "height": 51
        }
      },
      "source": [
        "!ls /content/face-alignment/"
      ],
      "execution_count": 0,
      "outputs": [
        {
          "output_type": "stream",
          "text": [
            "conda\t    docs      face_alignment  README.md\t\tsetup.cfg  test\n",
            "Dockerfile  examples  LICENSE\t      requirements.txt\tsetup.py   tox.ini\n"
          ],
          "name": "stdout"
        }
      ]
    },
    {
      "cell_type": "code",
      "metadata": {
        "id": "sfXx6rRzHG1l",
        "colab_type": "code",
        "colab": {}
      },
      "source": [
        "import sys\n",
        "sys.path.append('face-alignment')"
      ],
      "execution_count": 0,
      "outputs": []
    },
    {
      "cell_type": "code",
      "metadata": {
        "id": "SMD5kqBFHRKY",
        "colab_type": "code",
        "outputId": "ab970bb4-c035-4c6c-d571-1cd11f004e8c",
        "colab": {
          "base_uri": "https://localhost:8080/",
          "height": 1000
        }
      },
      "source": [
        "!cd face-alignment/ && python setup.py install"
      ],
      "execution_count": 0,
      "outputs": [
        {
          "output_type": "stream",
          "text": [
            "running install\n",
            "running bdist_egg\n",
            "running egg_info\n",
            "creating face_alignment.egg-info\n",
            "writing face_alignment.egg-info/PKG-INFO\n",
            "writing dependency_links to face_alignment.egg-info/dependency_links.txt\n",
            "writing requirements to face_alignment.egg-info/requires.txt\n",
            "writing top-level names to face_alignment.egg-info/top_level.txt\n",
            "writing manifest file 'face_alignment.egg-info/SOURCES.txt'\n",
            "writing manifest file 'face_alignment.egg-info/SOURCES.txt'\n",
            "installing library code to build/bdist.linux-x86_64/egg\n",
            "running install_lib\n",
            "running build_py\n",
            "creating build\n",
            "creating build/lib\n",
            "creating build/lib/face_alignment\n",
            "copying face_alignment/utils.py -> build/lib/face_alignment\n",
            "copying face_alignment/__init__.py -> build/lib/face_alignment\n",
            "copying face_alignment/models.py -> build/lib/face_alignment\n",
            "copying face_alignment/api.py -> build/lib/face_alignment\n",
            "creating build/lib/face_alignment/detection\n",
            "copying face_alignment/detection/core.py -> build/lib/face_alignment/detection\n",
            "copying face_alignment/detection/__init__.py -> build/lib/face_alignment/detection\n",
            "creating build/lib/face_alignment/detection/sfd\n",
            "copying face_alignment/detection/sfd/__init__.py -> build/lib/face_alignment/detection/sfd\n",
            "copying face_alignment/detection/sfd/detect.py -> build/lib/face_alignment/detection/sfd\n",
            "copying face_alignment/detection/sfd/bbox.py -> build/lib/face_alignment/detection/sfd\n",
            "copying face_alignment/detection/sfd/sfd_detector.py -> build/lib/face_alignment/detection/sfd\n",
            "copying face_alignment/detection/sfd/net_s3fd.py -> build/lib/face_alignment/detection/sfd\n",
            "creating build/lib/face_alignment/detection/dlib\n",
            "copying face_alignment/detection/dlib/dlib_detector.py -> build/lib/face_alignment/detection/dlib\n",
            "copying face_alignment/detection/dlib/__init__.py -> build/lib/face_alignment/detection/dlib\n",
            "creating build/lib/face_alignment/detection/folder\n",
            "copying face_alignment/detection/folder/__init__.py -> build/lib/face_alignment/detection/folder\n",
            "copying face_alignment/detection/folder/folder_detector.py -> build/lib/face_alignment/detection/folder\n",
            "creating build/bdist.linux-x86_64\n",
            "creating build/bdist.linux-x86_64/egg\n",
            "creating build/bdist.linux-x86_64/egg/face_alignment\n",
            "copying build/lib/face_alignment/utils.py -> build/bdist.linux-x86_64/egg/face_alignment\n",
            "copying build/lib/face_alignment/__init__.py -> build/bdist.linux-x86_64/egg/face_alignment\n",
            "copying build/lib/face_alignment/models.py -> build/bdist.linux-x86_64/egg/face_alignment\n",
            "copying build/lib/face_alignment/api.py -> build/bdist.linux-x86_64/egg/face_alignment\n",
            "creating build/bdist.linux-x86_64/egg/face_alignment/detection\n",
            "copying build/lib/face_alignment/detection/core.py -> build/bdist.linux-x86_64/egg/face_alignment/detection\n",
            "copying build/lib/face_alignment/detection/__init__.py -> build/bdist.linux-x86_64/egg/face_alignment/detection\n",
            "creating build/bdist.linux-x86_64/egg/face_alignment/detection/sfd\n",
            "copying build/lib/face_alignment/detection/sfd/__init__.py -> build/bdist.linux-x86_64/egg/face_alignment/detection/sfd\n",
            "copying build/lib/face_alignment/detection/sfd/detect.py -> build/bdist.linux-x86_64/egg/face_alignment/detection/sfd\n",
            "copying build/lib/face_alignment/detection/sfd/bbox.py -> build/bdist.linux-x86_64/egg/face_alignment/detection/sfd\n",
            "copying build/lib/face_alignment/detection/sfd/sfd_detector.py -> build/bdist.linux-x86_64/egg/face_alignment/detection/sfd\n",
            "copying build/lib/face_alignment/detection/sfd/net_s3fd.py -> build/bdist.linux-x86_64/egg/face_alignment/detection/sfd\n",
            "creating build/bdist.linux-x86_64/egg/face_alignment/detection/dlib\n",
            "copying build/lib/face_alignment/detection/dlib/dlib_detector.py -> build/bdist.linux-x86_64/egg/face_alignment/detection/dlib\n",
            "copying build/lib/face_alignment/detection/dlib/__init__.py -> build/bdist.linux-x86_64/egg/face_alignment/detection/dlib\n",
            "creating build/bdist.linux-x86_64/egg/face_alignment/detection/folder\n",
            "copying build/lib/face_alignment/detection/folder/__init__.py -> build/bdist.linux-x86_64/egg/face_alignment/detection/folder\n",
            "copying build/lib/face_alignment/detection/folder/folder_detector.py -> build/bdist.linux-x86_64/egg/face_alignment/detection/folder\n",
            "byte-compiling build/bdist.linux-x86_64/egg/face_alignment/utils.py to utils.cpython-36.pyc\n",
            "byte-compiling build/bdist.linux-x86_64/egg/face_alignment/__init__.py to __init__.cpython-36.pyc\n",
            "byte-compiling build/bdist.linux-x86_64/egg/face_alignment/models.py to models.cpython-36.pyc\n",
            "byte-compiling build/bdist.linux-x86_64/egg/face_alignment/api.py to api.cpython-36.pyc\n",
            "byte-compiling build/bdist.linux-x86_64/egg/face_alignment/detection/core.py to core.cpython-36.pyc\n",
            "byte-compiling build/bdist.linux-x86_64/egg/face_alignment/detection/__init__.py to __init__.cpython-36.pyc\n",
            "byte-compiling build/bdist.linux-x86_64/egg/face_alignment/detection/sfd/__init__.py to __init__.cpython-36.pyc\n",
            "byte-compiling build/bdist.linux-x86_64/egg/face_alignment/detection/sfd/detect.py to detect.cpython-36.pyc\n",
            "byte-compiling build/bdist.linux-x86_64/egg/face_alignment/detection/sfd/bbox.py to bbox.cpython-36.pyc\n",
            "byte-compiling build/bdist.linux-x86_64/egg/face_alignment/detection/sfd/sfd_detector.py to sfd_detector.cpython-36.pyc\n",
            "byte-compiling build/bdist.linux-x86_64/egg/face_alignment/detection/sfd/net_s3fd.py to net_s3fd.cpython-36.pyc\n",
            "byte-compiling build/bdist.linux-x86_64/egg/face_alignment/detection/dlib/dlib_detector.py to dlib_detector.cpython-36.pyc\n",
            "byte-compiling build/bdist.linux-x86_64/egg/face_alignment/detection/dlib/__init__.py to __init__.cpython-36.pyc\n",
            "byte-compiling build/bdist.linux-x86_64/egg/face_alignment/detection/folder/__init__.py to __init__.cpython-36.pyc\n",
            "byte-compiling build/bdist.linux-x86_64/egg/face_alignment/detection/folder/folder_detector.py to folder_detector.cpython-36.pyc\n",
            "creating build/bdist.linux-x86_64/egg/EGG-INFO\n",
            "copying face_alignment.egg-info/PKG-INFO -> build/bdist.linux-x86_64/egg/EGG-INFO\n",
            "copying face_alignment.egg-info/SOURCES.txt -> build/bdist.linux-x86_64/egg/EGG-INFO\n",
            "copying face_alignment.egg-info/dependency_links.txt -> build/bdist.linux-x86_64/egg/EGG-INFO\n",
            "copying face_alignment.egg-info/requires.txt -> build/bdist.linux-x86_64/egg/EGG-INFO\n",
            "copying face_alignment.egg-info/top_level.txt -> build/bdist.linux-x86_64/egg/EGG-INFO\n",
            "copying face_alignment.egg-info/zip-safe -> build/bdist.linux-x86_64/egg/EGG-INFO\n",
            "creating dist\n",
            "creating 'dist/face_alignment-1.0.1-py3.6.egg' and adding 'build/bdist.linux-x86_64/egg' to it\n",
            "removing 'build/bdist.linux-x86_64/egg' (and everything under it)\n",
            "Processing face_alignment-1.0.1-py3.6.egg\n",
            "Copying face_alignment-1.0.1-py3.6.egg to /usr/local/lib/python3.6/dist-packages\n",
            "Adding face-alignment 1.0.1 to easy-install.pth file\n",
            "\n",
            "Installed /usr/local/lib/python3.6/dist-packages/face_alignment-1.0.1-py3.6.egg\n",
            "Processing dependencies for face-alignment==1.0.1\n",
            "Searching for tqdm==4.38.0\n",
            "Best match: tqdm 4.38.0\n",
            "Adding tqdm 4.38.0 to easy-install.pth file\n",
            "Installing tqdm script to /usr/local/bin\n",
            "\n",
            "Using /usr/local/lib/python3.6/dist-packages\n",
            "Searching for opencv-python==4.1.2.30\n",
            "Best match: opencv-python 4.1.2.30\n",
            "Adding opencv-python 4.1.2.30 to easy-install.pth file\n",
            "\n",
            "Using /usr/local/lib/python3.6/dist-packages\n",
            "Searching for scikit-image==0.16.2\n",
            "Best match: scikit-image 0.16.2\n",
            "Adding scikit-image 0.16.2 to easy-install.pth file\n",
            "Installing skivi script to /usr/local/bin\n",
            "\n",
            "Using /usr/local/lib/python3.6/dist-packages\n",
            "Searching for scipy==1.4.1\n",
            "Best match: scipy 1.4.1\n",
            "Adding scipy 1.4.1 to easy-install.pth file\n",
            "\n",
            "Using /usr/local/lib/python3.6/dist-packages\n",
            "Searching for numpy==1.18.2\n",
            "Best match: numpy 1.18.2\n",
            "Adding numpy 1.18.2 to easy-install.pth file\n",
            "Installing f2py script to /usr/local/bin\n",
            "Installing f2py3 script to /usr/local/bin\n",
            "Installing f2py3.6 script to /usr/local/bin\n",
            "\n",
            "Using /usr/local/lib/python3.6/dist-packages\n",
            "Searching for torch==1.4.0\n",
            "Best match: torch 1.4.0\n",
            "Adding torch 1.4.0 to easy-install.pth file\n",
            "Installing convert-caffe2-to-onnx script to /usr/local/bin\n",
            "Installing convert-onnx-to-caffe2 script to /usr/local/bin\n",
            "\n",
            "Using /usr/local/lib/python3.6/dist-packages\n",
            "Searching for Pillow==7.0.0\n",
            "Best match: Pillow 7.0.0\n",
            "Adding Pillow 7.0.0 to easy-install.pth file\n",
            "\n",
            "Using /usr/local/lib/python3.6/dist-packages\n",
            "Searching for networkx==2.4\n",
            "Best match: networkx 2.4\n",
            "Adding networkx 2.4 to easy-install.pth file\n",
            "\n",
            "Using /usr/local/lib/python3.6/dist-packages\n",
            "Searching for matplotlib==3.2.1\n",
            "Best match: matplotlib 3.2.1\n",
            "Adding matplotlib 3.2.1 to easy-install.pth file\n",
            "\n",
            "Using /usr/local/lib/python3.6/dist-packages\n",
            "Searching for imageio==2.4.1\n",
            "Best match: imageio 2.4.1\n",
            "Adding imageio 2.4.1 to easy-install.pth file\n",
            "Installing imageio_download_bin script to /usr/local/bin\n",
            "Installing imageio_remove_bin script to /usr/local/bin\n",
            "\n",
            "Using /usr/local/lib/python3.6/dist-packages\n",
            "Searching for PyWavelets==1.1.1\n",
            "Best match: PyWavelets 1.1.1\n",
            "Adding PyWavelets 1.1.1 to easy-install.pth file\n",
            "\n",
            "Using /usr/local/lib/python3.6/dist-packages\n",
            "Searching for decorator==4.4.2\n",
            "Best match: decorator 4.4.2\n",
            "Adding decorator 4.4.2 to easy-install.pth file\n",
            "\n",
            "Using /usr/local/lib/python3.6/dist-packages\n",
            "Searching for kiwisolver==1.2.0\n",
            "Best match: kiwisolver 1.2.0\n",
            "Adding kiwisolver 1.2.0 to easy-install.pth file\n",
            "\n",
            "Using /usr/local/lib/python3.6/dist-packages\n",
            "Searching for cycler==0.10.0\n",
            "Best match: cycler 0.10.0\n",
            "Adding cycler 0.10.0 to easy-install.pth file\n",
            "\n",
            "Using /usr/local/lib/python3.6/dist-packages\n",
            "Searching for pyparsing==2.4.7\n",
            "Best match: pyparsing 2.4.7\n",
            "Adding pyparsing 2.4.7 to easy-install.pth file\n",
            "\n",
            "Using /usr/local/lib/python3.6/dist-packages\n",
            "Searching for python-dateutil==2.8.1\n",
            "Best match: python-dateutil 2.8.1\n",
            "Adding python-dateutil 2.8.1 to easy-install.pth file\n",
            "\n",
            "Using /usr/local/lib/python3.6/dist-packages\n",
            "Searching for six==1.12.0\n",
            "Best match: six 1.12.0\n",
            "Adding six 1.12.0 to easy-install.pth file\n",
            "\n",
            "Using /usr/local/lib/python3.6/dist-packages\n",
            "Finished processing dependencies for face-alignment==1.0.1\n"
          ],
          "name": "stdout"
        }
      ]
    },
    {
      "cell_type": "code",
      "metadata": {
        "id": "ece-Gn2VHnBd",
        "colab_type": "code",
        "outputId": "701904ce-e1d3-45d4-a5c7-9b93b08d45bb",
        "colab": {
          "base_uri": "https://localhost:8080/",
          "height": 102
        }
      },
      "source": [
        "!git clone https://github.com/AliaksandrSiarohin/first-order-model.git"
      ],
      "execution_count": 0,
      "outputs": [
        {
          "output_type": "stream",
          "text": [
            "Cloning into 'first-order-model'...\n",
            "remote: Enumerating objects: 193, done.\u001b[K\n",
            "remote: Total 193 (delta 0), reused 0 (delta 0), pack-reused 193\u001b[K\n",
            "Receiving objects: 100% (193/193), 71.45 MiB | 34.33 MiB/s, done.\n",
            "Resolving deltas: 100% (95/95), done.\n"
          ],
          "name": "stdout"
        }
      ]
    }
  ]
}